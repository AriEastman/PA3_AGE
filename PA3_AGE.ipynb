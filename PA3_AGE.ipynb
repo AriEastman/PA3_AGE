{
 "cells": [
  {
   "cell_type": "markdown",
   "id": "d6d3b78e",
   "metadata": {},
   "source": [
    "* PA3\n",
    "* Ari Eastman\n",
    "* Version 1\n",
    "* CS150-01\n",
    "* Computer Programming for the Liberal Arts\n",
    "* FA 2023\n",
    "# Working with Lists and Tuples"
   ]
  },
  {
   "cell_type": "markdown",
   "id": "64abc4f1",
   "metadata": {},
   "source": [
    "# Task 1: List Operations"
   ]
  },
  {
   "cell_type": "code",
   "execution_count": 1,
   "id": "4e3fa84c",
   "metadata": {},
   "outputs": [
    {
     "name": "stdout",
     "output_type": "stream",
     "text": [
      "[10, 20, 30, 40, 50]\n"
     ]
    }
   ],
   "source": [
    "numbers=[10, 20, 30, 40, 50]\n",
    "print(numbers)"
   ]
  },
  {
   "cell_type": "code",
   "execution_count": 2,
   "id": "bfc7fa01",
   "metadata": {},
   "outputs": [
    {
     "name": "stdout",
     "output_type": "stream",
     "text": [
      "[10, 20, 30, 40, 50, 60]\n"
     ]
    }
   ],
   "source": [
    "numbers.append(60)\n",
    "print(numbers)"
   ]
  },
  {
   "cell_type": "code",
   "execution_count": 3,
   "id": "1d168a21",
   "metadata": {},
   "outputs": [
    {
     "name": "stdout",
     "output_type": "stream",
     "text": [
      "[5, 10, 20, 30, 40, 50, 60]\n"
     ]
    }
   ],
   "source": [
    "numbers.insert(0, 5)\n",
    "print(numbers)"
   ]
  },
  {
   "cell_type": "code",
   "execution_count": 4,
   "id": "46094bfc",
   "metadata": {},
   "outputs": [
    {
     "name": "stdout",
     "output_type": "stream",
     "text": [
      "[5, 20, 30, 40, 50, 60]\n"
     ]
    }
   ],
   "source": [
    "numbers.pop(1)\n",
    "print(numbers)"
   ]
  },
  {
   "cell_type": "code",
   "execution_count": 5,
   "id": "80232c2a",
   "metadata": {},
   "outputs": [
    {
     "name": "stdout",
     "output_type": "stream",
     "text": [
      "This is the modified numbers list:  [5, 20, 30, 40, 50, 60]\n"
     ]
    }
   ],
   "source": [
    "print(f\"This is the modified numbers list: \", numbers)"
   ]
  },
  {
   "cell_type": "markdown",
   "id": "1c3e11cf",
   "metadata": {},
   "source": [
    "# Task 2: Tuple Basics"
   ]
  },
  {
   "cell_type": "code",
   "execution_count": 6,
   "id": "760bc383",
   "metadata": {},
   "outputs": [
    {
     "data": {
      "text/plain": [
       "tuple"
      ]
     },
     "execution_count": 6,
     "metadata": {},
     "output_type": "execute_result"
    }
   ],
   "source": [
    "days_tuple=(\"Monday\", \"Tuesday\", \"Wednesday\", \"Thursday\", \"Friday\", \"Saturday\", \"Sunday\")\n",
    "type(days_tuple)"
   ]
  },
  {
   "cell_type": "code",
   "execution_count": 7,
   "id": "815add60",
   "metadata": {},
   "outputs": [
    {
     "data": {
      "text/plain": [
       "'Wednesday'"
      ]
     },
     "execution_count": 7,
     "metadata": {},
     "output_type": "execute_result"
    }
   ],
   "source": [
    "days_tuple[2]"
   ]
  },
  {
   "cell_type": "code",
   "execution_count": 8,
   "id": "14275db3",
   "metadata": {},
   "outputs": [],
   "source": [
    "# days_tuple[1]=\"Funday\""
   ]
  },
  {
   "cell_type": "markdown",
   "id": "6681bd50",
   "metadata": {},
   "source": [
    "##### Attempting to modify will lead to a error that 'tuple'object does not support item assignment. This is because tuple is immutable and has no functions that make it changeable through append, assignment, extend, etc."
   ]
  },
  {
   "cell_type": "markdown",
   "id": "3409963a",
   "metadata": {},
   "source": [
    "# Task 3: Reversing Sublist"
   ]
  },
  {
   "cell_type": "code",
   "execution_count": 9,
   "id": "8a230fde",
   "metadata": {},
   "outputs": [
    {
     "name": "stdout",
     "output_type": "stream",
     "text": [
      "['a', 'b', 'c', 'd', 'e', 'f', 'g', 'h', 'i', 'j', 'k', 'l', 'm', 'n', 'o', 'p', 'q', 'r', 's', 't', 'u', 'v', 'w', 'x', 'y', 'z']\n"
     ]
    }
   ],
   "source": [
    "letters=['a', 'b', 'c', 'd', 'e', 'f', 'g', 'h', 'i', 'j', 'k', 'l', 'm', 'n', 'o', 'p', 'q', 'r', 's', 't', 'u', 'v', 'w', 'x', 'y', 'z']\n",
    "print(letters)"
   ]
  },
  {
   "cell_type": "code",
   "execution_count": 22,
   "id": "e0a31725",
   "metadata": {},
   "outputs": [
    {
     "data": {
      "text/plain": [
       "['p', 'o', 'n', 'm', 'l', 'k']"
      ]
     },
     "execution_count": 22,
     "metadata": {},
     "output_type": "execute_result"
    }
   ],
   "source": [
    "letters[10:-10]"
   ]
  },
  {
   "cell_type": "code",
   "execution_count": 23,
   "id": "c4d6411b",
   "metadata": {},
   "outputs": [
    {
     "name": "stdout",
     "output_type": "stream",
     "text": [
      "['k', 'l', 'm', 'n', 'o', 'p']\n"
     ]
    }
   ],
   "source": [
    "letters.reverse()\n",
    "print(letters[10:-10])"
   ]
  },
  {
   "cell_type": "markdown",
   "id": "7e6340c3",
   "metadata": {},
   "source": [
    "# Task 4: Tuple Packing and Unpacking"
   ]
  },
  {
   "cell_type": "code",
   "execution_count": 12,
   "id": "6d801f24",
   "metadata": {},
   "outputs": [
    {
     "name": "stdout",
     "output_type": "stream",
     "text": [
      "First Name: Ari\n",
      "Last Name: Eastman\n",
      "My Age: 19\n",
      "My Favorite Subject: Art\n"
     ]
    }
   ],
   "source": [
    "student=(\"Ari\", \"Eastman\", 19, \"Art\")\n",
    "first_name, last_name, age, subject=student\n",
    "print(\"First Name:\", first_name)\n",
    "print(\"Last Name:\", last_name)\n",
    "print(\"My Age:\", age)\n",
    "print(\"My Favorite Subject:\", subject)"
   ]
  },
  {
   "cell_type": "markdown",
   "id": "83ebe8b4",
   "metadata": {},
   "source": [
    "# Task 5: Shopping List"
   ]
  },
  {
   "cell_type": "code",
   "execution_count": 13,
   "id": "2c6be7da",
   "metadata": {},
   "outputs": [],
   "source": [
    "shopping_list=[\"Banana\", \"Grape\", \"Cheese\", \"Chicken\", \"Onion\"]"
   ]
  },
  {
   "cell_type": "code",
   "execution_count": 14,
   "id": "79f0b587",
   "metadata": {},
   "outputs": [
    {
     "data": {
      "text/plain": [
       "5"
      ]
     },
     "execution_count": 14,
     "metadata": {},
     "output_type": "execute_result"
    }
   ],
   "source": [
    "len(shopping_list)"
   ]
  },
  {
   "cell_type": "code",
   "execution_count": 15,
   "id": "9af062e9",
   "metadata": {},
   "outputs": [
    {
     "name": "stdout",
     "output_type": "stream",
     "text": [
      "['Banana', 'Grape', 'Lettuce', 'Chicken', 'Onion']\n"
     ]
    }
   ],
   "source": [
    "shopping_list[2]=\"Lettuce\"\n",
    "print(shopping_list)"
   ]
  },
  {
   "cell_type": "code",
   "execution_count": 16,
   "id": "a7d4fc71",
   "metadata": {},
   "outputs": [
    {
     "data": {
      "text/plain": [
       "['Banana', 'Chicken', 'Grape', 'Lettuce', 'Onion']"
      ]
     },
     "execution_count": 16,
     "metadata": {},
     "output_type": "execute_result"
    }
   ],
   "source": [
    "sorted(shopping_list)"
   ]
  },
  {
   "cell_type": "code",
   "execution_count": 17,
   "id": "c3626791",
   "metadata": {},
   "outputs": [
    {
     "name": "stdout",
     "output_type": "stream",
     "text": [
      "['Banana', 'Chicken', 'Grape', 'Lettuce', 'Onion']\n"
     ]
    }
   ],
   "source": [
    "print(sorted(shopping_list))"
   ]
  }
 ],
 "metadata": {
  "kernelspec": {
   "display_name": "Python 3 (ipykernel)",
   "language": "python",
   "name": "python3"
  },
  "language_info": {
   "codemirror_mode": {
    "name": "ipython",
    "version": 3
   },
   "file_extension": ".py",
   "mimetype": "text/x-python",
   "name": "python",
   "nbconvert_exporter": "python",
   "pygments_lexer": "ipython3",
   "version": "3.11.4"
  }
 },
 "nbformat": 4,
 "nbformat_minor": 5
}
